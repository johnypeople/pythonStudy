{
 "cells": [
  {
   "cell_type": "code",
   "execution_count": 18,
   "metadata": {},
   "outputs": [
    {
     "name": "stdout",
     "output_type": "stream",
     "text": [
      "Lista original  ['São Paulo', 'Brasília', 'Natal', 'Goiânia', 'Manaus']\n",
      "Imprimindo o último item da lista utilizando o índice [-1]: Manaus\n",
      "Inserindo a cidade de Mossoró utilizando a função insert: ['São Paulo', 'Brasília', 'Mossoró', 'Natal', 'Goiânia', 'Manaus']\n",
      "Inserindo a cidade Massaranduba utilizando a função append: ['São Paulo', 'Brasília', 'Mossoró', 'Natal', 'Goiânia', 'Manaus', 'Massaranduba']\n",
      "Removendo uma cidade utilizando a função pop() com índice 1: ['São Paulo', 'Mossoró', 'Natal', 'Goiânia', 'Manaus', 'Massaranduba']\n"
     ]
    }
   ],
   "source": [
    "#Listas\n",
    "\n",
    "cidades = ['São Paulo', 'Brasília', 'Natal', 'Goiânia', 'Manaus']\n",
    "\n",
    "print(\"Lista original \", cidades)\n",
    "\n",
    "print(\"Imprimindo o último item da lista utilizando o índice [-1]: {}\".format(cidades[-1]))\n",
    "\n",
    "cidades.insert(2, 'Mossoró')\n",
    "\n",
    "print(\"Inserindo a cidade de {0} utilizando a função insert: {1}\".format(cidades[2], cidades))\n",
    "\n",
    "cidades.append('Massaranduba')\n",
    "\n",
    "print(\"Inserindo a cidade {0} utilizando a função append: {1}\".format(cidades[-1], cidades))\n",
    "\n",
    "cidades.pop(1)\n",
    "\n",
    "print(\"Removendo uma cidade utilizando a função pop() com índice 1: {}\".format(cidades))\n",
    "\n"
   ]
  }
 ],
 "metadata": {
  "kernelspec": {
   "display_name": "Python 3",
   "language": "python",
   "name": "python3"
  },
  "language_info": {
   "codemirror_mode": {
    "name": "ipython",
    "version": 3
   },
   "file_extension": ".py",
   "mimetype": "text/x-python",
   "name": "python",
   "nbconvert_exporter": "python",
   "pygments_lexer": "ipython3",
   "version": "3.8.0"
  }
 },
 "nbformat": 4,
 "nbformat_minor": 2
}
