{
 "cells": [
  {
   "cell_type": "code",
   "execution_count": 36,
   "metadata": {},
   "outputs": [
    {
     "name": "stdout",
     "output_type": "stream",
     "text": [
      "Lista original  ['São Paulo', 'Brasília', 'Natal', 'Goiânia', 'Manaus']\n",
      "Imprimindo o último item da lista utilizando o índice [-1]: Manaus\n",
      "Inserindo a cidade de Mossoró utilizando a função insert: ['São Paulo', 'Brasília', 'Mossoró', 'Natal', 'Goiânia', 'Manaus']\n",
      "Inserindo a cidade Massaranduba utilizando a função append: ['São Paulo', 'Brasília', 'Mossoró', 'Natal', 'Goiânia', 'Manaus', 'Massaranduba']\n",
      "Removendo uma cidade utilizando a função pop() com índice 1: ['São Paulo', 'Mossoró', 'Natal', 'Goiânia', 'Manaus', 'Massaranduba']\n"
     ]
    }
   ],
   "source": [
    "#Listas\n",
    "\n",
    "cidades = ['São Paulo', 'Brasília', 'Natal', 'Goiânia', 'Manaus']\n",
    "\n",
    "print(\"Lista original \", cidades)\n",
    "\n",
    "print(\"Imprimindo o último item da lista utilizando o índice [-1]: {}\".format(cidades[-1]))\n",
    "\n",
    "cidades.insert(2, 'Mossoró')\n",
    "\n",
    "print(\"Inserindo a cidade de {0} utilizando a função insert: {1}\".format(cidades[2], cidades))\n",
    "\n",
    "cidades.append('Massaranduba')\n",
    "\n",
    "print(\"Inserindo a cidade {0} utilizando a função append: {1}\".format(cidades[-1], cidades))\n",
    "\n",
    "cidades.pop(1)\n",
    "\n",
    "print(\"Removendo uma cidade utilizando a função pop() com índice 1: {}\".format(cidades))"
   ]
  },
  {
   "cell_type": "code",
   "execution_count": 40,
   "metadata": {},
   "outputs": [
    {
     "name": "stdout",
     "output_type": "stream",
     "text": [
      "Lista mista:  [1, 2, 3, 4, 5, 'a', 'b', 'c', 'd', 'e']\n",
      "Lista concatenada:  [[1, 2, 3, 4, 5], ['a', 'b', 'c', 'd', 'e']]\n",
      "Acessando o 5° item da lista mista:  5\n",
      "Acessando o 3° item da 2° lista dentro de concatenada:  c\n",
      "5\n",
      "O valor armazenado em mista é 1\n",
      "O valor armazenado em mista é 2\n",
      "O valor armazenado em mista é 3\n",
      "O valor armazenado em mista é 4\n",
      "O valor armazenado em mista é 5\n",
      "O valor armazenado em mista é a\n",
      "O valor armazenado em mista é b\n",
      "O valor armazenado em mista é c\n",
      "O valor armazenado em mista é d\n",
      "O valor armazenado em mista é e\n",
      "O valor armazenado em concatenada é 1\n",
      "O valor armazenado em concatenada é 2\n",
      "O valor armazenado em concatenada é 3\n",
      "O valor armazenado em concatenada é 4\n",
      "O valor armazenado em concatenada é 5\n",
      "O valor armazenado em concatenada é a\n",
      "O valor armazenado em concatenada é b\n",
      "O valor armazenado em concatenada é c\n",
      "O valor armazenado em concatenada é d\n",
      "O valor armazenado em concatenada é e\n"
     ]
    }
   ],
   "source": [
    "#Operações com listas\n",
    "\n",
    "numeros = [1, 2, 3, 4, 5]\n",
    "letras = ['a', 'b', 'c', 'd', 'e']\n",
    "\n",
    "mista = numeros + letras\n",
    "\n",
    "concatenada = [numeros, letras]\n",
    "\n",
    "print(\"Lista mista: \", mista)\n",
    "print(\"Lista concatenada: \", concatenada)\n",
    "\n",
    "#Acessando os itens de ambas as listas\n",
    "print(\"Acessando o 5° item da lista mista: \",mista[4])\n",
    "print(\"Acessando o 3° item da 2° lista dentro de concatenada: \",concatenada[1][2])\n",
    "\n",
    "i1, i2, *outros, i5 = numeros\n",
    "\n",
    "print(i5)\n",
    "\n",
    "#Iterando sob uma lista \n",
    "\n",
    "for i in mista:\n",
    "    print(f'O valor armazenado em mista é {i}')\n",
    "\n",
    "for i in concatenada:\n",
    "    for j in i:\n",
    "        print(f'O valor armazenado em concatenada é {j}')\n",
    "\n"
   ]
  }
 ],
 "metadata": {
  "kernelspec": {
   "display_name": "Python 3",
   "language": "python",
   "name": "python3"
  },
  "language_info": {
   "codemirror_mode": {
    "name": "ipython",
    "version": 3
   },
   "file_extension": ".py",
   "mimetype": "text/x-python",
   "name": "python",
   "nbconvert_exporter": "python",
   "pygments_lexer": "ipython3",
   "version": "3.8.0"
  }
 },
 "nbformat": 4,
 "nbformat_minor": 2
}
