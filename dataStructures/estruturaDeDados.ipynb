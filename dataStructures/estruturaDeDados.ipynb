{
 "cells": [
  {
   "cell_type": "code",
   "execution_count": 36,
   "metadata": {},
   "outputs": [
    {
     "name": "stdout",
     "output_type": "stream",
     "text": [
      "Lista original  ['São Paulo', 'Brasília', 'Natal', 'Goiânia', 'Manaus']\n",
      "Imprimindo o último item da lista utilizando o índice [-1]: Manaus\n",
      "Inserindo a cidade de Mossoró utilizando a função insert: ['São Paulo', 'Brasília', 'Mossoró', 'Natal', 'Goiânia', 'Manaus']\n",
      "Inserindo a cidade Massaranduba utilizando a função append: ['São Paulo', 'Brasília', 'Mossoró', 'Natal', 'Goiânia', 'Manaus', 'Massaranduba']\n",
      "Removendo uma cidade utilizando a função pop() com índice 1: ['São Paulo', 'Mossoró', 'Natal', 'Goiânia', 'Manaus', 'Massaranduba']\n"
     ]
    }
   ],
   "source": [
    "#Listas\n",
    "\n",
    "cidades = ['São Paulo', 'Brasília', 'Natal', 'Goiânia', 'Manaus']\n",
    "\n",
    "print(\"Lista original \", cidades)\n",
    "\n",
    "print(\"Imprimindo o último item da lista utilizando o índice [-1]: {}\".format(cidades[-1]))\n",
    "\n",
    "cidades.insert(2, 'Mossoró')\n",
    "\n",
    "print(\"Inserindo a cidade de {0} utilizando a função insert: {1}\".format(cidades[2], cidades))\n",
    "\n",
    "cidades.append('Massaranduba')\n",
    "\n",
    "print(\"Inserindo a cidade {0} utilizando a função append: {1}\".format(cidades[-1], cidades))\n",
    "\n",
    "cidades.pop(1)\n",
    "\n",
    "print(\"Removendo uma cidade utilizando a função pop() com índice 1: {}\".format(cidades))"
   ]
  },
  {
   "cell_type": "code",
   "execution_count": 40,
   "metadata": {},
   "outputs": [
    {
     "name": "stdout",
     "output_type": "stream",
     "text": [
      "Lista mista:  [1, 2, 3, 4, 5, 'a', 'b', 'c', 'd', 'e']\n",
      "Lista concatenada:  [[1, 2, 3, 4, 5], ['a', 'b', 'c', 'd', 'e']]\n",
      "Acessando o 5° item da lista mista:  5\n",
      "Acessando o 3° item da 2° lista dentro de concatenada:  c\n",
      "5\n",
      "O valor armazenado em mista é 1\n",
      "O valor armazenado em mista é 2\n",
      "O valor armazenado em mista é 3\n",
      "O valor armazenado em mista é 4\n",
      "O valor armazenado em mista é 5\n",
      "O valor armazenado em mista é a\n",
      "O valor armazenado em mista é b\n",
      "O valor armazenado em mista é c\n",
      "O valor armazenado em mista é d\n",
      "O valor armazenado em mista é e\n",
      "O valor armazenado em concatenada é 1\n",
      "O valor armazenado em concatenada é 2\n",
      "O valor armazenado em concatenada é 3\n",
      "O valor armazenado em concatenada é 4\n",
      "O valor armazenado em concatenada é 5\n",
      "O valor armazenado em concatenada é a\n",
      "O valor armazenado em concatenada é b\n",
      "O valor armazenado em concatenada é c\n",
      "O valor armazenado em concatenada é d\n",
      "O valor armazenado em concatenada é e\n"
     ]
    }
   ],
   "source": [
    "#Operações com listas\n",
    "\n",
    "numeros = [1, 2, 3, 4, 5]\n",
    "letras = ['a', 'b', 'c', 'd', 'e']\n",
    "\n",
    "mista = numeros + letras\n",
    "\n",
    "concatenada = [numeros, letras]\n",
    "\n",
    "print(\"Lista mista: \", mista)\n",
    "print(\"Lista concatenada: \", concatenada)\n",
    "\n",
    "#Acessando os itens de ambas as listas\n",
    "print(\"Acessando o 5° item da lista mista: \",mista[4])\n",
    "print(\"Acessando o 3° item da 2° lista dentro de concatenada: \",concatenada[1][2])\n",
    "\n",
    "i1, i2, *outros, i5 = numeros\n",
    "\n",
    "print(i5)\n",
    "\n",
    "#Iterando sob uma lista \n",
    "\n",
    "for i in mista:\n",
    "    print(f'O valor armazenado em mista é {i}')\n",
    "\n",
    "for i in concatenada:\n",
    "    for j in i:\n",
    "        print(f'O valor armazenado em concatenada é {j}')\n",
    "\n"
   ]
  },
  {
   "cell_type": "code",
   "execution_count": 49,
   "metadata": {},
   "outputs": [
    {
     "name": "stdout",
     "output_type": "stream",
     "text": [
      "Imprimindo a lista de tuplas resultantes [('Azul', 10), ('Amarelo', 20), ('Vermelho', 30)]\n",
      "['João', 'guilherme', 'domingos', 'de', 'oliveira']\n"
     ]
    }
   ],
   "source": [
    "#Agregação de listas\n",
    "\n",
    "cores = ['Azul', 'Amarelo', 'Vermelho']\n",
    "numeros = [10, 20, 30]\n",
    "\n",
    "final = zip(cores, numeros)\n",
    "\n",
    "lista_final = list(final)\n",
    "\n",
    "print(f'Imprimindo a lista de tuplas resultantes {lista_final}')\n",
    "\n",
    "texto = 'João, guilherme, domingos, de, oliveira'\n",
    "\n",
    "lista_texto = texto.split(', ')\n",
    "\n",
    "print(lista_texto)"
   ]
  },
  {
   "cell_type": "code",
   "execution_count": 61,
   "metadata": {},
   "outputs": [
    {
     "name": "stdout",
     "output_type": "stream",
     "text": [
      "Valor resultante armazenado no arraz array('u', 'abcde')\n",
      "{'Abacate', 'Tomate', 'Abacaxi', 'Limão', 'Acerola', 'Laranja'}\n",
      "{'Laranja', 'Acerola'}\n",
      "{'Abacaxi', 'Tomate'}\n",
      "{'Abacate', 'Tomate', 'Limão', 'Abacaxi'}\n",
      "Set original: {1, 2, 3, 4, 5, 6, 7}\n",
      "Set com add(10): {1, 2, 3, 4, 5, 6, 7, 10}\n",
      "Set com remove(4): {1, 2, 3, 5, 6, 7, 10}\n"
     ]
    }
   ],
   "source": [
    "from array import array\n",
    "\n",
    "#Main array typecode\n",
    "# u - string\n",
    "# i - integer\n",
    "# f - float \n",
    "\n",
    "letras = array('u', ['a', 'b', 'c', 'd', 'e'])\n",
    "\n",
    "print(f'Valor resultante armazenado no arraz {letras}')\n",
    "\n",
    "\n",
    "frutas1 = ['Laranja', 'Abacaxi', 'Tomate', 'Acerola']\n",
    "frutas2 = ['Laranja', 'Limão', 'Abacate', 'Acerola']\n",
    "\n",
    "final1 = set(frutas1)\n",
    "final2 = set(frutas2)\n",
    "\n",
    "#Operações com Sets\n",
    "print(final1 | final2) # Union\n",
    "print(final1 & final2) # And\n",
    "print(final1 - final2) # Difference\n",
    "print(final1 ^ final2) # Symmetric Difference\n",
    "\n",
    "#Funções com Sets\n",
    "\n",
    "s1 = {1, 2, 3, 4, 5, 5, 6, 7}\n",
    "print(f'Set original: {s1}')\n",
    "\n",
    "s1.add(10)\n",
    "print(f'Set com add(10): {s1}')\n",
    "\n",
    "s1.remove(4)\n",
    "print(f'Set com remove(4): {s1}')"
   ]
  },
  {
   "cell_type": "code",
   "execution_count": 83,
   "metadata": {},
   "outputs": [
    {
     "name": "stdout",
     "output_type": "stream",
     "text": [
      "nome João\n",
      "nome Joaquim\n",
      "nome Dedé\n",
      "nome Hevelyn\n",
      "idade 30\n",
      "idade 9\n",
      "idade 10\n",
      "idade 28\n",
      "conceito A\n",
      "conceito B\n",
      "conceito C\n",
      "conceito F\n",
      "aprovado True\n",
      "aprovado True\n",
      "aprovado False\n",
      "aprovado False\n",
      "materias português\n",
      "materias matemática\n",
      "materias física\n"
     ]
    }
   ],
   "source": [
    "#Dictionares\n",
    "#Declarado em combinação chave:valor \n",
    "#Para acessar o valor, basta chamar a chave correspondente\n",
    "\n",
    "aluno = {'nome':'Pedro', 'idade':16, 'conceito':'A', 'aprovado':True}\n",
    "\n",
    "#print(aluno['idade'])\n",
    "#print(aluno.get('idade'))\n",
    "\n",
    "aluno.update({'nome':'José', 'conceito':'B', 'endereço':'Rua A'})\n",
    "\n",
    "#print(aluno)\n",
    "\n",
    "#for i, j in aluno.items():\n",
    "#    print(f'A chave {i} tem o valor: {j}')\n",
    "\n",
    "alunos = {\n",
    "    'nome': ['João', 'Joaquim', 'Dedé', 'Hevelyn'],\n",
    "    'idade': [30, 9, 10, 28],\n",
    "    'conceito': ['A', 'B', 'C', 'F'],\n",
    "    'aprovado': [True, True, False, False],\n",
    "    'materias': ['português', 'matemática', 'física']\n",
    "}\n",
    "\n",
    "#print(alunos)\n",
    "#print(alunos.items())\n",
    "#print(alunos.values())\n",
    "#print(alunos.keys())\n",
    "\n",
    "for key, values in alunos.items():\n",
    "    for value in values:\n",
    "        print(key, value)\n",
    "\n"
   ]
  },
  {
   "cell_type": "code",
   "execution_count": 2,
   "metadata": {},
   "outputs": [
    {
     "name": "stdout",
     "output_type": "stream",
     "text": [
      "False\n",
      "[2, 4, 6, 8, 10]\n",
      "[2, 4, 6, 8, 10]\n",
      "[False, False, False, True, True]\n",
      "[4, 5]\n"
     ]
    }
   ],
   "source": [
    "#Working with lambda\n",
    "\n",
    "def par(x):\n",
    "    return True if x%2 == 0 else False    \n",
    "\n",
    "print(par(5))\n",
    "\n",
    "lista = [1, 2, 3, 4, 5]\n",
    "\n",
    "def multi(x):\n",
    "    return x*2\n",
    "\n",
    "saida = map(multi, lista)\n",
    "\n",
    "print(list(saida))\n",
    "\n",
    "saida2 = map(lambda x: x*2, lista)\n",
    "\n",
    "print(list(saida2))\n",
    "\n",
    "#Filter\n",
    "#Funcionamento semelhante ao map, porém, retorna os valores\n",
    "\n",
    "def remove(x):\n",
    "    return x > 3\n",
    "\n",
    "print(list(map(remove, lista)))\n",
    "\n",
    "\n",
    "print(list(filter(lambda x: x> 3, lista)))\n",
    "\n"
   ]
  }
 ],
 "metadata": {
  "kernelspec": {
   "display_name": "Python 3",
   "language": "python",
   "name": "python3"
  },
  "language_info": {
   "codemirror_mode": {
    "name": "ipython",
    "version": 3
   },
   "file_extension": ".py",
   "mimetype": "text/x-python",
   "name": "python",
   "nbconvert_exporter": "python",
   "pygments_lexer": "ipython3",
   "version": "3.8.0"
  }
 },
 "nbformat": 4,
 "nbformat_minor": 2
}
