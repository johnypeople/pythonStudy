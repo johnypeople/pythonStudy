{
 "cells": [
  {
   "cell_type": "code",
   "execution_count": 27,
   "metadata": {},
   "outputs": [
    {
     "name": "stdout",
     "output_type": "stream",
     "text": [
      "4500\n",
      "3150.0\n",
      "2500\n",
      "Produto não elegível para desconto\n",
      "2500\n"
     ]
    }
   ],
   "source": [
    "#Class and methods\n",
    "\n",
    "class Produtos:\n",
    "    def __init__(self, nome, marca, quantidade, valor):\n",
    "        self.nome = nome\n",
    "        self.marca = marca\n",
    "        self.quantidade = quantidade\n",
    "        self.valor = valor\n",
    "\n",
    "    def estoque(self):\n",
    "        return self.nome + ' ' + self.marca + f' por apenas R${self.valor}'\n",
    "    \n",
    "    def desconto(self):\n",
    "        return self.valor*0.7\n",
    "        \n",
    "    def atualiza(self):\n",
    "        if self.valor > 3000:\n",
    "            self.valor = self.desconto()\n",
    "        else:\n",
    "            print('Produto não elegível para desconto')\n",
    "    \n",
    "produto1 = Produtos('Tênis', 'Nike', 34, 4500)\n",
    "produto2 = Produtos('Tênis', 'Adidas', 32, 2500)\n",
    "\n",
    "print(produto1.valor)\n",
    "\n",
    "produto1.atualiza()\n",
    "print(produto1.valor)\n",
    "\n",
    "print(produto2.valor)\n",
    "\n",
    "produto2.atualiza()\n",
    "print(produto2.valor)\n"
   ]
  },
  {
   "cell_type": "code",
   "execution_count": 10,
   "metadata": {},
   "outputs": [
    {
     "name": "stdout",
     "output_type": "stream",
     "text": [
      "2020 Toyota Corolla\n",
      "Este carro tem 0 quilômetros rodados.\n",
      "Este carro tem 15000 quilômetros rodados.\n",
      "Este carro tem 15500 quilômetros rodados.\n"
     ]
    }
   ],
   "source": [
    "class Carro:\n",
    "    def __init__(self, marca, modelo, ano):\n",
    "        self.marca = marca\n",
    "        self.modelo = modelo\n",
    "        self.ano = ano\n",
    "        self.km = 0  # Quilometragem inicial do carro é 0\n",
    "\n",
    "    def descrever_carro(self):\n",
    "        return f\"{self.ano} {self.marca} {self.modelo}\"\n",
    "\n",
    "    def ler_quilometragem(self):\n",
    "        return f\"Este carro tem {self.km} quilômetros rodados.\"\n",
    "\n",
    "    def atualizar_quilometragem(self, km):\n",
    "        if km >= self.km:\n",
    "            self.km = km\n",
    "        else:\n",
    "            print(\"Você não pode reduzir a quilometragem do carro!\")\n",
    "\n",
    "    def incrementar_quilometragem(self, km):\n",
    "        if km > 0:\n",
    "            self.km += km\n",
    "        else:\n",
    "            print('Você não pode incrementar a quilometragem com um valor negativo!')\n",
    "\n",
    "# Criando uma instância da classe Carro\n",
    "meu_carro = Carro('Toyota', 'Corolla', 2020)\n",
    "\n",
    "# Usando os métodos da classe\n",
    "print(meu_carro.descrever_carro())\n",
    "print(meu_carro.ler_quilometragem())\n",
    "\n",
    "# Atualizando a quilometragem\n",
    "meu_carro.atualizar_quilometragem(15000)\n",
    "print(meu_carro.ler_quilometragem())\n",
    "\n",
    "# Incrementando a quilometragem\n",
    "meu_carro.incrementar_quilometragem(500)\n",
    "print(meu_carro.ler_quilometragem())\n"
   ]
  },
  {
   "cell_type": "code",
   "execution_count": 35,
   "metadata": {},
   "outputs": [
    {
     "name": "stdout",
     "output_type": "stream",
     "text": [
      "Você acabou de pegar emprestado o livro: O Pequeno Príncipe\n",
      "Título: 1984, autor: George Orwell. Status: Disponível\n",
      "Título: O Senhor dos Anéis, autor: J.R.R. Tolkien. Status: Disponível\n",
      "Título: O Pequeno Príncipe, autor: Antoine de Saint-Exupéry. Status: Emprestado\n",
      "O livro 1984 não estava emprestado\n",
      "Título: 1984, autor: George Orwell. Status: Disponível\n",
      "Título: O Senhor dos Anéis, autor: J.R.R. Tolkien. Status: Disponível\n",
      "Título: O Pequeno Príncipe, autor: Antoine de Saint-Exupéry. Status: Emprestado\n"
     ]
    }
   ],
   "source": [
    "class Livro:\n",
    "    def __init__(self, nome, autor) -> None:\n",
    "        self.nome = nome \n",
    "        self.autor = autor\n",
    "        self.emprestado = False\n",
    "\n",
    "class Biblioteca: \n",
    "    def __init__(self) -> None:\n",
    "        self.livros = []\n",
    "\n",
    "    def adicionar_livro(self, livro):\n",
    "        self.livros.append(livro)\n",
    "\n",
    "    def listar_livros(self):\n",
    "        for livro in self.livros:\n",
    "            status = 'Emprestado' if livro.emprestado else 'Disponível'\n",
    "            print(f'Título: {livro.nome}, autor: {livro.autor}. Status: {status}')\n",
    "    \n",
    "    def emprestar_livro(self, nome):\n",
    "        for livro in self.livros:\n",
    "            if  livro.nome == nome:\n",
    "                if not livro.emprestado:\n",
    "                    livro.emprestado = True\n",
    "                    print(f'Você acabou de pegar emprestado o livro: {livro.nome}')\n",
    "                    return\n",
    "                else:\n",
    "                    print(f'O livro {livro.nome} está emprestado')\n",
    "                    return\n",
    "        \n",
    "        print('Livro não encontrado')\n",
    "    \n",
    "    def devolver_livro(self, nome):\n",
    "        for livro in self.livros:\n",
    "            if livro.nome == nome:\n",
    "                if livro.emprestado:\n",
    "                    livro.emprestado = False\n",
    "                    print(f'Obrigado por devolver o livro {livro.nome}')\n",
    "                    return\n",
    "                else:\n",
    "                    print(f'O livro {livro.nome} não estava emprestado')\n",
    "                    return\n",
    "        print('Livro não encontrado')\n",
    "\n",
    "livro1 = Livro(\"1984\", \"George Orwell\")\n",
    "livro2 = Livro(\"O Senhor dos Anéis\", \"J.R.R. Tolkien\")\n",
    "livro3 = Livro(\"O Pequeno Príncipe\", \"Antoine de Saint-Exupéry\")\n",
    "\n",
    "biblioteca = Biblioteca()\n",
    "biblioteca.adicionar_livro(livro1)\n",
    "biblioteca.adicionar_livro(livro2)\n",
    "biblioteca.adicionar_livro(livro3)\n",
    "\n",
    "biblioteca.emprestar_livro(\"O Pequeno Príncipe\")\n",
    "biblioteca.listar_livros()\n",
    "\n",
    "biblioteca.devolver_livro(\"1984\")\n",
    "biblioteca.listar_livros()"
   ]
  },
  {
   "cell_type": "code",
   "execution_count": 42,
   "metadata": {},
   "outputs": [
    {
     "name": "stdout",
     "output_type": "stream",
     "text": [
      "Volume máximo atingido 10\n",
      "Volume mínino atingido 0\n"
     ]
    }
   ],
   "source": [
    "class Televisao:\n",
    "    def __init__(self) -> None:\n",
    "        self.marca = 'LG'\n",
    "        self.volume = 0\n",
    "    \n",
    "    def aumentar(self):\n",
    "        if self.volume <10:\n",
    "            self.volume +=1\n",
    "        else:\n",
    "            print(f'Volume máximo atingido {self.volume}')\n",
    "    \n",
    "    def diminuir(self):\n",
    "        if self.volume > 0:\n",
    "            self.volume -= 1\n",
    "        else:\n",
    "            print(f'Volume mínino atingido {self.volume}')\n",
    "\n",
    "\n",
    "tv1 = Televisao()\n",
    "for i in range(11):\n",
    "    tv1.aumentar()\n",
    "\n",
    "for i in range(11):\n",
    "    tv1.diminuir()"
   ]
  },
  {
   "cell_type": "code",
   "execution_count": 11,
   "metadata": {},
   "outputs": [],
   "source": [
    "class Abajur:\n",
    "    def __init__(self):\n",
    "        self.__lampada = True\n",
    "        self.__itensidade = 0\n",
    "    \n",
    "    def __liga_desliga(self):\n",
    "        if self.__itensidade == 0:\n",
    "            self.__lampada = False\n",
    "        else:\n",
    "            self.__lampada = True\n",
    "    \n",
    "    def __controla_itensidade(self):\n",
    "        if self.__itensidade < 4:\n",
    "            self.__itensidade += 1\n",
    "        else:\n",
    "            self.__itensidade = 0\n",
    "    \n",
    "    def tocar_botao(self):\n",
    "        if input(\"Tocar botão [Enter]\") == \"\":\n",
    "            return True\n",
    "        else:\n",
    "            return False\n",
    "    \n",
    "    def mostrar_status(self):\n",
    "        print(self.__lampada)\n",
    "        print(self.__itensidade)\n",
    "    \n",
    "    def acoes(self):\n",
    "        self.__controla_itensidade()\n",
    "        self.__liga_desliga()\n",
    "    \n",
    "\n",
    "\n",
    "abajur = Abajur()\n",
    "while True:\n",
    "    if abajur.tocar_botao():\n",
    "        abajur.acoes()\n",
    "    \n",
    "    abajur.mostrar_status()\n",
    "\n"
   ]
  },
  {
   "cell_type": "code",
   "execution_count": 12,
   "metadata": {},
   "outputs": [
    {
     "name": "stdout",
     "output_type": "stream",
     "text": [
      "('Azul', 4)\n"
     ]
    }
   ],
   "source": [
    "class Mouse:\n",
    "    def __init__(self, cor, qtd_botoes) -> None:\n",
    "        self.__cor = cor\n",
    "        self.__qtd_botoes = qtd_botoes\n",
    "\n",
    "    @property\n",
    "    def cor(self):\n",
    "        return self.__cor, self.__qtd_botoes\n",
    "    \n",
    "    @cor.setter\n",
    "    def cor(self, cor, qtd_botoes):\n",
    "        self.__cor = cor\n",
    "        self.__qtd_botoes = qtd_botoes\n",
    "\n",
    "mouse = Mouse('Azul', 4)\n",
    "\n",
    "print(mouse.cor)"
   ]
  },
  {
   "cell_type": "code",
   "execution_count": 31,
   "metadata": {},
   "outputs": [
    {
     "name": "stdout",
     "output_type": "stream",
     "text": [
      "O veículo Argo HGT está acelerando\n",
      "A moto Faser ta empinando\n"
     ]
    }
   ],
   "source": [
    "class Veiculo:\n",
    "    def __init__(self, marca, modelo):\n",
    "        self.marca = marca\n",
    "        self.modelo = modelo\n",
    "\n",
    "    def acelerar(self):\n",
    "        print(f'O veículo {self.modelo} está acelerando')\n",
    "\n",
    "    def frear():\n",
    "        print('Carro freando')\n",
    "\n",
    "class Carro(Veiculo):\n",
    "    def __init__(self, marca, modelo, portas):\n",
    "        super().__init__(marca, modelo)\n",
    "        self.portas = portas\n",
    "    \n",
    "    def seta():\n",
    "        print('O carro está dando seta')\n",
    "\n",
    "class Moto(Veiculo):\n",
    "    def __init__(self, marca, modelo, tipo):\n",
    "        super().__init__(marca, modelo)\n",
    "        self.tipo = tipo\n",
    "    \n",
    "    def empina(self):\n",
    "        print(f'A moto {self.modelo} está empinando')\n",
    "\n",
    "moto1 = Moto('Honda', 'Faser', 'Comum')\n",
    "carro1 = Carro('Fiat', 'Argo HGT', 4)\n",
    "\n",
    "carro1.acelerar()\n",
    "moto1.empina()"
   ]
  },
  {
   "cell_type": "code",
   "execution_count": 33,
   "metadata": {},
   "outputs": [
    {
     "name": "stdout",
     "output_type": "stream",
     "text": [
      "Cachorro Animal emitindo barulho\n"
     ]
    }
   ],
   "source": [
    "#polimorfismo\n",
    "\n",
    "class Animal:\n",
    "    def __init__(self, especie, cor):\n",
    "        self.especie = especie\n",
    "        self.cor = cor\n",
    "    \n",
    "    def barulho(self):\n",
    "        return 'Animal emitindo barulho'\n",
    "\n",
    "class Cachorro(Animal):\n",
    "    def __init__(self, especie, cor):\n",
    "        super().__init__(especie, cor)\n",
    "\n",
    "    def barulho(self):\n",
    "        print(f'Cachorro ' + super().barulho())\n",
    "\n",
    "bicho = Cachorro('Pinscher', 'Preto')\n",
    "\n",
    "bicho.barulho()"
   ]
  },
  {
   "cell_type": "code",
   "execution_count": 34,
   "metadata": {},
   "outputs": [
    {
     "data": {
      "text/plain": [
       "'800 km/h'"
      ]
     },
     "execution_count": 34,
     "metadata": {},
     "output_type": "execute_result"
    }
   ],
   "source": [
    "#Métodos abstratos\n",
    "\n",
    "from abc import ABC, abstractmethod\n",
    "\n",
    "class Veiculo(ABC):\n",
    "    @abstractmethod\n",
    "    def velocidade_maxima(self):\n",
    "        pass\n",
    "\n",
    "class Aviao(Veiculo):\n",
    "    def velocidade_maxima(self):\n",
    "        return \"800 km/h\"\n",
    "    \n",
    "aviao = Aviao()\n",
    "aviao.velocidade_maxima()"
   ]
  }
 ],
 "metadata": {
  "kernelspec": {
   "display_name": "Python 3",
   "language": "python",
   "name": "python3"
  },
  "language_info": {
   "codemirror_mode": {
    "name": "ipython",
    "version": 3
   },
   "file_extension": ".py",
   "mimetype": "text/x-python",
   "name": "python",
   "nbconvert_exporter": "python",
   "pygments_lexer": "ipython3",
   "version": "3.8.0"
  }
 },
 "nbformat": 4,
 "nbformat_minor": 2
}
