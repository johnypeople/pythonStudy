{
 "cells": [
  {
   "cell_type": "code",
   "execution_count": 27,
   "metadata": {},
   "outputs": [
    {
     "name": "stdout",
     "output_type": "stream",
     "text": [
      "4500\n",
      "3150.0\n",
      "2500\n",
      "Produto não elegível para desconto\n",
      "2500\n"
     ]
    }
   ],
   "source": [
    "#Class and methods\n",
    "\n",
    "class Produtos:\n",
    "    def __init__(self, nome, marca, quantidade, valor):\n",
    "        self.nome = nome\n",
    "        self.marca = marca\n",
    "        self.quantidade = quantidade\n",
    "        self.valor = valor\n",
    "\n",
    "    def estoque(self):\n",
    "        return self.nome + ' ' + self.marca + f' por apenas R${self.valor}'\n",
    "    \n",
    "    def desconto(self):\n",
    "        return self.valor*0.7\n",
    "        \n",
    "    def atualiza(self):\n",
    "        if self.valor > 3000:\n",
    "            self.valor = self.desconto()\n",
    "        else:\n",
    "            print('Produto não elegível para desconto')\n",
    "    \n",
    "produto1 = Produtos('Tênis', 'Nike', 34, 4500)\n",
    "produto2 = Produtos('Tênis', 'Adidas', 32, 2500)\n",
    "\n",
    "print(produto1.valor)\n",
    "\n",
    "produto1.atualiza()\n",
    "print(produto1.valor)\n",
    "\n",
    "print(produto2.valor)\n",
    "\n",
    "produto2.atualiza()\n",
    "print(produto2.valor)\n"
   ]
  },
  {
   "cell_type": "code",
   "execution_count": 10,
   "metadata": {},
   "outputs": [
    {
     "name": "stdout",
     "output_type": "stream",
     "text": [
      "2020 Toyota Corolla\n",
      "Este carro tem 0 quilômetros rodados.\n",
      "Este carro tem 15000 quilômetros rodados.\n",
      "Este carro tem 15500 quilômetros rodados.\n"
     ]
    }
   ],
   "source": [
    "class Carro:\n",
    "    def __init__(self, marca, modelo, ano):\n",
    "        self.marca = marca\n",
    "        self.modelo = modelo\n",
    "        self.ano = ano\n",
    "        self.km = 0  # Quilometragem inicial do carro é 0\n",
    "\n",
    "    def descrever_carro(self):\n",
    "        return f\"{self.ano} {self.marca} {self.modelo}\"\n",
    "\n",
    "    def ler_quilometragem(self):\n",
    "        return f\"Este carro tem {self.km} quilômetros rodados.\"\n",
    "\n",
    "    def atualizar_quilometragem(self, km):\n",
    "        if km >= self.km:\n",
    "            self.km = km\n",
    "        else:\n",
    "            print(\"Você não pode reduzir a quilometragem do carro!\")\n",
    "\n",
    "    def incrementar_quilometragem(self, km):\n",
    "        if km > 0:\n",
    "            self.km += km\n",
    "        else:\n",
    "            print('Você não pode incrementar a quilometragem com um valor negativo!')\n",
    "\n",
    "# Criando uma instância da classe Carro\n",
    "meu_carro = Carro('Toyota', 'Corolla', 2020)\n",
    "\n",
    "# Usando os métodos da classe\n",
    "print(meu_carro.descrever_carro())\n",
    "print(meu_carro.ler_quilometragem())\n",
    "\n",
    "# Atualizando a quilometragem\n",
    "meu_carro.atualizar_quilometragem(15000)\n",
    "print(meu_carro.ler_quilometragem())\n",
    "\n",
    "# Incrementando a quilometragem\n",
    "meu_carro.incrementar_quilometragem(500)\n",
    "print(meu_carro.ler_quilometragem())\n"
   ]
  }
 ],
 "metadata": {
  "kernelspec": {
   "display_name": "Python 3",
   "language": "python",
   "name": "python3"
  },
  "language_info": {
   "codemirror_mode": {
    "name": "ipython",
    "version": 3
   },
   "file_extension": ".py",
   "mimetype": "text/x-python",
   "name": "python",
   "nbconvert_exporter": "python",
   "pygments_lexer": "ipython3",
   "version": "3.8.0"
  }
 },
 "nbformat": 4,
 "nbformat_minor": 2
}
