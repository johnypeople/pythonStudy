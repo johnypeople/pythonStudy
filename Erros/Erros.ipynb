{
 "cells": [
  {
   "cell_type": "code",
   "execution_count": 5,
   "metadata": {},
   "outputs": [
    {
     "name": "stdout",
     "output_type": "stream",
     "text": [
      "Digite um index válido\n",
      "45\n",
      "135\n",
      "Estando dentro finaly\n"
     ]
    }
   ],
   "source": [
    "#Tratamentos de erros com try e except\n",
    "\n",
    "\n",
    "try:\n",
    "    lista = ['a', 'b', 'c', 'd']\n",
    "    print(lista[5])\n",
    "except: \n",
    "    print('Digite um index válido')\n",
    "\n",
    "\n",
    "try:\n",
    "    valor = int(input('Digite um valor inteiro: '))\n",
    "    print(valor)\n",
    "except ValueError:\n",
    "    print('Digite um número, não é permitido strings. ')\n",
    "else:\n",
    "    print(valor*3)\n",
    "finally:\n",
    "    print('Estando dentro finaly')\n",
    "\n",
    "\n"
   ]
  }
 ],
 "metadata": {
  "kernelspec": {
   "display_name": "Python 3",
   "language": "python",
   "name": "python3"
  },
  "language_info": {
   "codemirror_mode": {
    "name": "ipython",
    "version": 3
   },
   "file_extension": ".py",
   "mimetype": "text/x-python",
   "name": "python",
   "nbconvert_exporter": "python",
   "pygments_lexer": "ipython3",
   "version": "3.8.0"
  }
 },
 "nbformat": 4,
 "nbformat_minor": 2
}
